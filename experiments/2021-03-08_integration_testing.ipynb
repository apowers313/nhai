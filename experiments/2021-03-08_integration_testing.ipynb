{
 "cells": [
  {
   "cell_type": "markdown",
   "metadata": {},
   "source": [
    "# NHAI Experiment integration testing (2021-03-08)\n",
    "\n",
    "Testing module loading and breakpoints"
   ]
  },
  {
   "cell_type": "code",
   "execution_count": 1,
   "metadata": {},
   "outputs": [
    {
     "data": {
      "text/markdown": [
       "# Report\n",
       "__Report Created:__ Tuesday, March 23, 2021, 9:41:24 PM PDT<br>\n",
       "\n",
       "## System\n",
       "__OS:__ macOS 10.15.7<br>\n",
       "__CPU:__ (16) x64 Intel(R) Core(TM) i9-9880H CPU @ 2.30GHz<br>\n",
       "__Memory:__ 1.22 GB / 16.00 GB<br>\n",
       "__Shell:__ 3.2.57 (/bin/bash)<br>\n",
       "\n",
       "## Binaries\n",
       "__Node:__ 14.16.0 (/usr/local/bin/node)<br>\n",
       "__NPM:__ 7.6.2 (~/.npm-packages/bin/npm)<br>\n",
       "__Yarn:__ Not Found<br>\n",
       "\n",
       "## Languages\n",
       "__Bash:__ 3.2.57 (/bin/bash)<br>\n",
       "__Go:__ Not Found<br>\n",
       "__Java:__ 15.0.2 (/usr/bin/javac)<br>\n",
       "__Perl:__ 5.18.4 (/usr/bin/perl)<br>\n",
       "__PHP:__ 7.3.11 (/usr/bin/php)<br>\n",
       "__Python:__ 3.9.1 (/Users/ampower/.pyenv/versions/3.9.1/bin/python)<br>\n",
       "__Python3:__ 3.9.1 (/Users/ampower/.pyenv/versions/3.9.1/bin/python3)<br>\n",
       "__R:__ Not Found<br>\n",
       "__Ruby:__ 2.6.3 (/usr/bin/ruby)<br>\n",
       "\n",
       "## Managers\n",
       "__pip2:__ Not Found<br>\n",
       "__pip3:__ not in version / path format<br>\n",
       "\n",
       "## Utilities\n",
       "__CMake:__ Not Found<br>\n",
       "__Make:__ 3.81 (/usr/bin/make)<br>\n",
       "__GCC:__ 10.15. (/usr/bin/gcc)<br>\n",
       "__Git:__ 2.24.3 (/usr/bin/git)<br>\n",
       "__Clang:__ 1200.0.32.29 (/usr/bin/clang)<br>\n",
       "__Make:__ 3.81 (/usr/bin/make)<br>\n",
       "\n",
       "## Virtualization\n",
       "__Docker:__ Not Found<br>\n",
       "__Running In Docker:__ no<br>\n",
       "__Parallels:__ Not Found<br>\n",
       "__VirtualBox:__ Not Found<br>\n",
       "\n",
       "## Browsers\n",
       "__Brave:__ Not Found<br>\n",
       "__Chrome:__ 89.0.4389.90 (undefined)<br>\n",
       "__Chrome Canary:__ Not Found<br>\n",
       "__Edge:__ Not Found<br>\n",
       "__Firefox:__ 78.8.0 (undefined)<br>\n",
       "__Firefox Developer Edition:__ Not Found<br>\n",
       "__Firefox Nightly:__ Not Found<br>\n",
       "__Safari:__ 14.0.3 (undefined)<br>\n",
       "__Safari Technology Preview:__ Not Found<br>\n",
       "\n",
       "## Jupyter\n",
       "### Jupyter Packages\n",
       "__jupyter core:__ 4.7.1<br>\n",
       "__jupyter-notebook:__ 6.2.0<br>\n",
       "__qtconsole:__ not installed<br>\n",
       "__ipython:__ 7.21.0<br>\n",
       "__ipykernel:__ 5.5.0<br>\n",
       "__jupyter client:__ 6.1.11<br>\n",
       "__jupyter lab:__ 3.0.10<br>\n",
       "__nbconvert:__ 6.0.7<br>\n",
       "__ipywidgets:__ not installed<br>\n",
       "__nbformat:__ 5.1.2<br>\n",
       "__traitlets:__ 5.0.5<br>\n",
       "### Jupyter Kernels\n",
       "__javascript:__ /Users/ampower/Library/Jupyter/kernels/javascript<br>\n",
       "__python3:__ /Users/ampower/.pyenv/versions/3.9.1/share/jupyter/kernels/python3<br>\n",
       "\n",
       "## Git\n",
       "__Git Directory:__ /Users/ampower/Projects/personal/nhai<br>\n",
       "__Branch:__ master<br>\n",
       "__Last Commit:__ 6075d97962e1d6fe1b81867b5caf041a3f7b02da (\"fix: rewrite of events system and associated tests\")<br>\n",
       "__Parent:__ f7594d95c20807a9397f416fd6ca89fc14a014a0<br>\n",
       "__Tree:__ 8c7e777fabab029e913907a8efb249ff33e652ce<br>\n",
       "### Remotes\n",
       "* origin (https://github.com/apowers313/nhai)\n",
       "### Git Status\n",
       "* experiments/2021-03-08_integration_testing.ipynb: new, untracked\n",
       "\n",
       "## NPM ls\n",
       "<pre>\n",
       "nhai@0.0.0 /Users/ampower/Projects/personal/nhai\n",
       "├── @commitlint/cli@11.0.0\n",
       "├── @commitlint/config-conventional@11.0.0\n",
       "├── @neth4ck/neth4ck@1.0.4\n",
       "├── @typescript-eslint/eslint-plugin@4.19.0\n",
       "├── @typescript-eslint/parser@4.19.0\n",
       "├── browser-sync@2.26.14\n",
       "├── bunyan-debug-stream@2.0.0\n",
       "├── bunyan@1.8.14\n",
       "├── chai-as-promised@7.1.1\n",
       "├── chai@4.3.0\n",
       "├── cosmiconfig@7.0.0\n",
       "├── coveralls@3.1.0\n",
       "├── cz-conventional-changelog@3.3.0\n",
       "├── docdash@1.2.0\n",
       "├── eslint-plugin-jsdoc@30.7.8\n",
       "├── eslint-plugin-mocha@8.0.0\n",
       "├── eslint-plugin-old-c-programmer@1.0.0\n",
       "├── eslint@7.13.0\n",
       "├── gh-pages@3.1.0\n",
       "├── gulp-eslint7@0.3.0\n",
       "├── gulp-jsdoc3@3.0.0\n",
       "├── gulp-mocha@7.0.2\n",
       "├── gulp-nodemon@2.5.0\n",
       "├── gulp@4.0.2\n",
       "├── husky@4.3.0\n",
       "├── is-ci@2.0.0\n",
       "├── jsdoc@3.6.6\n",
       "├── magicpatch-test@1.1.2\n",
       "├── mocha@8.2.1\n",
       "├── npm-watch@0.7.0\n",
       "├── nyc@15.1.0\n",
       "├── pinst@2.1.1\n",
       "├── plop@2.7.4\n",
       "├── promise-events@0.2.2\n",
       "├── random@2.2.0\n",
       "├── seedrandom@3.0.5\n",
       "├── sinon@9.2.1\n",
       "├── standard-version@9.0.0\n",
       "├── std-mocks@1.0.1\n",
       "├── tui-jsdoc-template@1.2.2\n",
       "└── typescript@4.2.3\n",
       "\n",
       "\n",
       "</pre>\n"
      ]
     },
     "execution_count": 1,
     "metadata": {},
     "output_type": "execute_result"
    }
   ],
   "source": [
    "%report"
   ]
  },
  {
   "cell_type": "code",
   "execution_count": 2,
   "metadata": {
    "scrolled": true
   },
   "outputs": [
    {
     "name": "stdout",
     "output_type": "stream",
     "text": [
      "[ added magic: '%break' which will call function 'shellBreak' ]\n",
      "[ added magic: '%bk' which will call function 'shellBreak' ]\n",
      "[ added magic: '%continue' which will call function 'shellContinue' ]\n",
      "[ added magic: '%cont' which will call function 'shellContinue' ]\n",
      "[ added magic: '%step' which will call function 'shellStep' ]\n",
      "[ added magic: '%version' which will call function 'shellVersion' ]\n",
      "[ added magic: '%watch' which will call function 'shellWatch' ]\n"
     ]
    }
   ],
   "source": [
    "let {runNethack, crl: {Config}} = require(\"../main\")"
   ]
  },
  {
   "cell_type": "code",
   "execution_count": 3,
   "metadata": {},
   "outputs": [
    {
     "data": {
      "text/plain": [
       "Map(20) {\n",
       "  'app-name' => 'nhai',\n",
       "  'app-version' => '0.0.0',\n",
       "  'debug-break-on-entry' => true,\n",
       "  'debug-sync-environment' => true,\n",
       "  'environment-synchronous' => true,\n",
       "  'environment-sync-watchdog-timeout' => 90000,\n",
       "  'environment-async-time' => 100,\n",
       "  'locale' => 'default',\n",
       "  'log-level' => 'debug',\n",
       "  'log-src' => false,\n",
       "  'log-patch-console' => true,\n",
       "  'log-start-msg' => false,\n",
       "  'log-force-color' => true,\n",
       "  'log-file-enabled' => false,\n",
       "  'log-file-prefix' => 'nhai-',\n",
       "  'log-file-suffix' => '.log',\n",
       "  'log-file-path' => '.',\n",
       "  'random-seed' => 'goodluck!',\n",
       "  'shell-enabled' => true,\n",
       "  'shell-prompt' => '$'\n",
       "}"
      ]
     },
     "execution_count": 3,
     "metadata": {},
     "output_type": "execute_result"
    }
   ],
   "source": [
    "Config.load({\n",
    "    \"debug-break-on-entry\": true,\n",
    "    \"log-level\": \"debug\",\n",
    "    \"environment-sync-watchdog-timeout\": 90000\n",
    "})"
   ]
  },
  {
   "cell_type": "code",
   "execution_count": 4,
   "metadata": {},
   "outputs": [
    {
     "name": "stdout",
     "output_type": "stream",
     "text": [
      "2021-03-24T04:41:36.425Z nhai INFO:  \u001b[32mStarting NetHack: run #1\u001b[39m\n",
      "2021-03-24T04:41:36.426Z nhai DEBUG: \u001b[36mHeap Usage: 12.89 MB (85.3% of 15.11 MB) :: ArrayBuffers: 70.96 KB   External: 1.24 MB   [[ Total Memory (RSS): 44.88 MB ]]\u001b[39m\n",
      "2021-03-24T04:41:43.828Z nhai WARN:  [nethack-internal] \u001b[33mFS.trackingDelegate error on read file: /dev/stdin\u001b[39m\n",
      "2021-03-24T04:41:43.832Z nhai WARN:  [nethack-internal] \u001b[33mFS.trackingDelegate error on read file: record\u001b[39m\n",
      "2021-03-24T04:41:43.843Z nhai WARN:  [nethack-internal] \u001b[33mFS.trackingDelegate error on read file: /sysconf\u001b[39m\n",
      "2021-03-24T04:41:43.857Z nhai WARN:  [nethack-internal] \u001b[33mFS.trackingDelegate error on read file: nhdat\u001b[39m\n",
      "2021-03-24T04:41:43.865Z nhai INFO:  \u001b[32mBreakpoint encountered.\u001b[39m\n",
      "2021-03-24T04:41:43.865Z nhai DEBUG: \u001b[36mBreakpoint triggered by event: vision::perception => data\u001b[39m\n"
     ]
    }
   ],
   "source": [
    "runNethack()"
   ]
  },
  {
   "cell_type": "code",
   "execution_count": 5,
   "metadata": {},
   "outputs": [
    {
     "name": "stdout",
     "output_type": "stream",
     "text": [
      "2021-03-24T04:41:46.209Z nhai INFO:  \u001b[32mStepping program execution.\u001b[39m\n",
      "2021-03-24T04:41:46.212Z nhai INFO:  \u001b[32mBreakpoint encountered.\u001b[39m\n",
      "2021-03-24T04:41:46.213Z nhai DEBUG: \u001b[36mBreakpoint triggered by event: vision::perception => data\u001b[39m\n"
     ]
    }
   ],
   "source": [
    "%step"
   ]
  },
  {
   "cell_type": "code",
   "execution_count": 6,
   "metadata": {},
   "outputs": [
    {
     "name": "stdout",
     "output_type": "stream",
     "text": [
      "2021-03-24T04:41:47.247Z nhai INFO:  \u001b[32mStepping program execution.\u001b[39m\n",
      "2021-03-24T04:41:47.255Z nhai WARN:  [nethack-internal] \u001b[33mFS.trackingDelegate error on read file: perm\u001b[39m\n",
      "2021-03-24T04:41:47.369Z nhai INFO:  \u001b[32mBreakpoint encountered.\u001b[39m\n",
      "2021-03-24T04:41:47.369Z nhai DEBUG: \u001b[36mBreakpoint triggered by event: vision::perception => data\u001b[39m\n"
     ]
    }
   ],
   "source": [
    "%step"
   ]
  },
  {
   "cell_type": "code",
   "execution_count": 7,
   "metadata": {},
   "outputs": [
    {
     "name": "stdout",
     "output_type": "stream",
     "text": [
      "2021-03-24T04:41:48.270Z nhai INFO:  \u001b[32mStepping program execution.\u001b[39m\n",
      "2021-03-24T04:41:48.403Z nhai INFO:  \u001b[32mBreakpoint encountered.\u001b[39m\n",
      "2021-03-24T04:41:48.403Z nhai DEBUG: \u001b[36mBreakpoint triggered by event: vision::perception => data\u001b[39m\n"
     ]
    }
   ],
   "source": [
    "%step"
   ]
  },
  {
   "cell_type": "code",
   "execution_count": 8,
   "metadata": {},
   "outputs": [
    {
     "name": "stdout",
     "output_type": "stream",
     "text": [
      "2021-03-24T04:41:51.839Z nhai INFO:  \u001b[32mStepping program execution.\u001b[39m\n",
      "2021-03-24T04:41:51.844Z nhai WARN:  \u001b[33mshim_status_update: stat BL_TITLE, value Web_user the Plunderer        , value type string\u001b[39m\n",
      "2021-03-24T04:41:51.846Z nhai WARN:  \u001b[33mshim_status_update: stat BL_STR, value 18, value type string\u001b[39m\n",
      "2021-03-24T04:41:51.846Z nhai INFO:  \u001b[32mBreakpoint encountered.\u001b[39m\n",
      "2021-03-24T04:41:51.847Z nhai DEBUG: \u001b[36mBreakpoint triggered by event: str::intrinsic => change\u001b[39m\n"
     ]
    }
   ],
   "source": [
    "%step"
   ]
  },
  {
   "cell_type": "code",
   "execution_count": 9,
   "metadata": {
    "scrolled": true
   },
   "outputs": [
    {
     "name": "stderr",
     "output_type": "stream",
     "text": [
      "Usage: %break [command]\n",
      "\n",
      "Manages breakpoints\n",
      "\n",
      "Commands:\n",
      "  add [options]               Create a new breakpoint\n",
      "  list                        Lists all breakpoints\n",
      "  clear [options] [names...]  Removes breakpoint(s)\n",
      "  disable <name...>           Temporarily disables a breakpoint; Has the same\n",
      "                              effect as 'delete' but the breakpoint can be\n",
      "                              'enable'-ed again later\n",
      "  enable <name...>            Re-enable a breakpoint that has been disabled\n",
      "  help [command]              display help for command\n"
     ]
    }
   ],
   "source": [
    "%break --help"
   ]
  },
  {
   "cell_type": "code",
   "execution_count": 10,
   "metadata": {},
   "outputs": [],
   "source": [
    "%break add --st significance"
   ]
  },
  {
   "cell_type": "code",
   "execution_count": 11,
   "metadata": {},
   "outputs": [
    {
     "name": "stdout",
     "output_type": "stream",
     "text": [
      "Breakpoints:\n",
      "(1)    bp1: \"all::sourceType:significance\"\n"
     ]
    }
   ],
   "source": [
    "%break list"
   ]
  },
  {
   "cell_type": "code",
   "execution_count": 12,
   "metadata": {
    "scrolled": true
   },
   "outputs": [
    {
     "name": "stdout",
     "output_type": "stream",
     "text": [
      "2021-03-24T04:41:59.677Z nhai INFO:  \u001b[32mContinuing program execution.\u001b[39m\n",
      "2021-03-24T04:41:59.679Z nhai WARN:  \u001b[33mshim_status_update: stat BL_DX, value 18, value type string\u001b[39m\n",
      "2021-03-24T04:41:59.681Z nhai WARN:  \u001b[33mshim_status_update: stat BL_CO, value 18, value type string\u001b[39m\n",
      "2021-03-24T04:41:59.682Z nhai WARN:  \u001b[33mshim_status_update: stat BL_IN, value 8, value type string\u001b[39m\n",
      "2021-03-24T04:41:59.684Z nhai WARN:  \u001b[33mshim_status_update: stat BL_WI, value 7, value type string\u001b[39m\n",
      "2021-03-24T04:41:59.685Z nhai WARN:  \u001b[33mshim_status_update: stat BL_CH, value 6, value type string\u001b[39m\n",
      "2021-03-24T04:41:59.687Z nhai WARN:  \u001b[33mshim_status_update: stat BL_ALIGN, value Neutral, value type string\u001b[39m\n",
      "2021-03-24T04:41:59.688Z nhai WARN:  \u001b[33mshim_status_update: stat BL_CAP, value , value type string\u001b[39m\n",
      "2021-03-24T04:41:59.691Z nhai WARN:  \u001b[33mshim_status_update: stat BL_GOLD, value \\G0000091E:0, value type string\u001b[39m\n",
      "2021-03-24T04:41:59.692Z nhai WARN:  \u001b[33mshim_status_update: stat BL_ENE, value 2, value type string\u001b[39m\n",
      "2021-03-24T04:41:59.694Z nhai WARN:  \u001b[33mshim_status_update: stat BL_ENEMAX, value 2, value type string\u001b[39m\n",
      "2021-03-24T04:41:59.696Z nhai WARN:  \u001b[33mshim_status_update: stat BL_XP, value 1, value type string\u001b[39m\n",
      "2021-03-24T04:41:59.697Z nhai WARN:  \u001b[33mshim_status_update: stat BL_AC, value 7, value type string\u001b[39m\n",
      "2021-03-24T04:41:59.699Z nhai WARN:  \u001b[33mshim_status_update: stat BL_HUNGER, value , value type string\u001b[39m\n",
      "2021-03-24T04:41:59.700Z nhai WARN:  \u001b[33mshim_status_update: stat BL_HP, value 16, value type string\u001b[39m\n",
      "2021-03-24T04:41:59.701Z nhai WARN:  \u001b[33mshim_status_update: stat BL_HPMAX, value 16, value type string\u001b[39m\n",
      "2021-03-24T04:41:59.703Z nhai WARN:  \u001b[33mshim_status_update: stat BL_LEVELDESC, value Dlvl:1  , value type string\u001b[39m\n",
      "2021-03-24T04:41:59.704Z nhai WARN:  \u001b[33mshim_status_update: stat BL_CONDITION, value 0, value type number\u001b[39m\n",
      "2021-03-24T04:41:59.813Z nhai WARN:  [nethack-internal] \u001b[33mFS.trackingDelegate error on read file: alock.0\u001b[39m\n",
      "2021-03-24T04:41:59.834Z nhai WARN:  \u001b[33mshim_status_update: stat BL_GOLD, value \\G13DB091E:0, value type string\u001b[39m\n",
      "2021-03-24T04:41:59.835Z nhai WARN:  \u001b[33mshim_status_update: stat BL_ENE, value 2, value type string\u001b[39m\n",
      "2021-03-24T04:41:59.836Z nhai WARN:  \u001b[33mshim_status_update: stat BL_ENEMAX, value 2, value type string\u001b[39m\n",
      "2021-03-24T04:41:59.838Z nhai WARN:  \u001b[33mshim_status_update: stat BL_XP, value 1, value type string\u001b[39m\n",
      "2021-03-24T04:41:59.840Z nhai WARN:  \u001b[33mshim_status_update: stat BL_AC, value 7, value type string\u001b[39m\n",
      "2021-03-24T04:41:59.841Z nhai WARN:  \u001b[33mshim_status_update: stat BL_HUNGER, value , value type string\u001b[39m\n",
      "2021-03-24T04:41:59.842Z nhai WARN:  \u001b[33mshim_status_update: stat BL_HP, value 16, value type string\u001b[39m\n",
      "2021-03-24T04:41:59.844Z nhai WARN:  \u001b[33mshim_status_update: stat BL_HPMAX, value 16, value type string\u001b[39m\n",
      "2021-03-24T04:41:59.845Z nhai WARN:  \u001b[33mshim_status_update: stat BL_LEVELDESC, value Dlvl:1  , value type string\u001b[39m\n",
      "2021-03-24T04:41:59.847Z nhai WARN:  \u001b[33mshim_status_update: stat BL_CONDITION, value 0, value type number\u001b[39m\n",
      "2021-03-24T04:41:59.863Z nhai INFO:  \u001b[32mStopping execution for breakpoint: bp1: \"all::sourceType:significance\"\u001b[39m\n",
      "2021-03-24T04:41:59.863Z nhai DEBUG: \u001b[36mBreakpoint triggered by event: significance::significance => significance\u001b[39m\n"
     ]
    }
   ],
   "source": [
    "%continue"
   ]
  },
  {
   "cell_type": "code",
   "execution_count": 13,
   "metadata": {},
   "outputs": [
    {
     "name": "stdout",
     "output_type": "stream",
     "text": [
      "2021-03-24T04:42:03.106Z nhai INFO:  \u001b[32mStepping program execution.\u001b[39m\n",
      "2021-03-24T04:42:03.107Z nhai INFO:  \u001b[32mStopping execution for breakpoint: bp1: \"all::sourceType:significance\"\u001b[39m\n",
      "2021-03-24T04:42:03.108Z nhai DEBUG: \u001b[36mBreakpoint triggered by event: nethack::main => waiting\u001b[39m\n"
     ]
    }
   ],
   "source": [
    "%step"
   ]
  },
  {
   "cell_type": "code",
   "execution_count": 14,
   "metadata": {},
   "outputs": [
    {
     "name": "stdout",
     "output_type": "stream",
     "text": [
      "2021-03-24T04:42:04.129Z nhai INFO:  \u001b[32mStepping program execution.\u001b[39m\n",
      "2021-03-24T04:42:04.130Z nhai INFO:  \u001b[32mStopping execution for breakpoint: bp1: \"all::sourceType:significance\"\u001b[39m\n",
      "2021-03-24T04:42:04.131Z nhai DEBUG: \u001b[36mBreakpoint triggered by event: action-selection::action => action\u001b[39m\n"
     ]
    }
   ],
   "source": [
    "%step"
   ]
  },
  {
   "cell_type": "code",
   "execution_count": 15,
   "metadata": {},
   "outputs": [
    {
     "name": "stdout",
     "output_type": "stream",
     "text": [
      "Breakpoints:\n",
      "(1)    bp1: \"all::sourceType:significance\"\n"
     ]
    }
   ],
   "source": [
    "%break list"
   ]
  },
  {
   "cell_type": "code",
   "execution_count": 16,
   "metadata": {},
   "outputs": [
    {
     "name": "stdout",
     "output_type": "stream",
     "text": [
      "2021-03-24T04:42:08.900Z nhai INFO:  \u001b[32mContinuing program execution.\u001b[39m\n",
      "2021-03-24T04:42:08.918Z nhai INFO:  \u001b[32mStopping execution for breakpoint: bp1: \"all::sourceType:significance\"\u001b[39m\n",
      "2021-03-24T04:42:08.918Z nhai DEBUG: \u001b[36mBreakpoint triggered by event: significance::significance => significance\u001b[39m\n"
     ]
    }
   ],
   "source": [
    "%continue"
   ]
  },
  {
   "cell_type": "code",
   "execution_count": null,
   "metadata": {},
   "outputs": [],
   "source": []
  }
 ],
 "metadata": {
  "kernelspec": {
   "display_name": "Javascript (Node.js)",
   "language": "javascript",
   "name": "javascript"
  },
  "language_info": {
   "file_extension": ".js",
   "mimetype": "application/javascript",
   "name": "javascript",
   "version": "14.16.0"
  },
  "toc": {
   "base_numbering": 1,
   "nav_menu": {},
   "number_sections": true,
   "sideBar": true,
   "skip_h1_title": false,
   "title_cell": "Table of Contents",
   "title_sidebar": "Contents",
   "toc_cell": false,
   "toc_position": {},
   "toc_section_display": true,
   "toc_window_display": true
  }
 },
 "nbformat": 4,
 "nbformat_minor": 4
}
