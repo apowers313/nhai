{
 "cells": [
  {
   "cell_type": "markdown",
   "metadata": {},
   "source": [
    "# NHAI Experiment integration testing (2021-03-08)\n",
    "\n",
    "Testing module loading and breakpoints"
   ]
  },
  {
   "cell_type": "markdown",
   "metadata": {},
   "source": [
    "## Make sure our errors work"
   ]
  },
  {
   "cell_type": "code",
   "execution_count": 1,
   "metadata": {
    "tags": [
     "iserror"
    ]
   },
   "outputs": [
    {
     "name": "stdout",
     "output_type": "stream",
     "text": [
      "this is okay\n"
     ]
    },
    {
     "name": "stderr",
     "output_type": "stream",
     "text": [
      "this is stderr\n"
     ]
    }
   ],
   "source": [
    "console.log(\"this is okay\");\n",
    "console.error(\"this is stderr\");"
   ]
  },
  {
   "cell_type": "code",
   "execution_count": 2,
   "metadata": {
    "tags": [
     "iserror"
    ]
   },
   "outputs": [
    {
     "name": "stdout",
     "output_type": "stream",
     "text": [
      "this is okay\n",
      "this is an Error\n"
     ]
    }
   ],
   "source": [
    "console.log(\"this is okay\");\n",
    "console.log(\"this is an Error\");"
   ]
  },
  {
   "cell_type": "code",
   "execution_count": 3,
   "metadata": {
    "tags": [
     "iserror"
    ]
   },
   "outputs": [
    {
     "name": "stderr",
     "output_type": "stream",
     "text": [
      "danger Will Robinson!\n"
     ]
    }
   ],
   "source": [
    "throw new TypeError(\"danger Will Robinson!\")"
   ]
  },
  {
   "cell_type": "markdown",
   "metadata": {
    "heading_collapsed": true
   },
   "source": [
    "## Test Magics"
   ]
  },
  {
   "cell_type": "code",
   "execution_count": 4,
   "metadata": {
    "hidden": true,
    "tags": [
     "exact"
    ]
   },
   "outputs": [
    {
     "name": "stdout",
     "output_type": "stream",
     "text": [
      "testing magic\n"
     ]
    }
   ],
   "source": [
    "%echo testing magic"
   ]
  },
  {
   "cell_type": "markdown",
   "metadata": {},
   "source": [
    "## Run NetHack"
   ]
  },
  {
   "cell_type": "code",
   "execution_count": 5,
   "metadata": {
    "tags": [
     "noerror"
    ]
   },
   "outputs": [
    {
     "name": "stdout",
     "output_type": "stream",
     "text": [
      "RedisGraph [class Graph]\n",
      "[ added magic: '%break' which will call function 'shellBreak' ]\n",
      "[ added magic: '%bk' which will call function 'shellBreak' ]\n",
      "[ added magic: '%continue' which will call function 'shellContinue' ]\n",
      "[ added magic: '%cont' which will call function 'shellContinue' ]\n",
      "[ added magic: '%step' which will call function 'shellStep' ]\n",
      "[ added magic: '%version' which will call function 'shellVersion' ]\n",
      "[ added magic: '%watch' which will call function 'shellWatch' ]\n"
     ]
    }
   ],
   "source": [
    "let {runNethack, crl: {Config}} = require(\"../../main\")"
   ]
  },
  {
   "cell_type": "code",
   "execution_count": 6,
   "metadata": {
    "tags": [
     "noerror"
    ]
   },
   "outputs": [
    {
     "data": {
      "text/plain": [
       "Map(25) {\n",
       "  'app-name' => 'nhai',\n",
       "  'app-version' => '0.0.0',\n",
       "  'debug-break-on-entry' => true,\n",
       "  'debug-sync-environment' => true,\n",
       "  'environment-synchronous' => true,\n",
       "  'environment-sync-watchdog-timeout' => 90000,\n",
       "  'environment-async-time' => 100,\n",
       "  'graphdb-name' => 'nhai',\n",
       "  'html-template-dir' => '/Users/ampower/Projects/personal/nhai/assets/hbs',\n",
       "  'locale' => 'default',\n",
       "  'log-error-stack' => false,\n",
       "  'log-error-stack-length' => 64,\n",
       "  'log-level' => 'debug',\n",
       "  'log-patch-console' => true,\n",
       "  'log-start-msg' => false,\n",
       "  'log-force-color' => true,\n",
       "  'log-file-enabled' => false,\n",
       "  'log-file-prefix' => 'nhai-',\n",
       "  'log-file-suffix' => '.log',\n",
       "  'log-file-path' => '.',\n",
       "  'random-seed' => 'goodluck!',\n",
       "  'redisgraph-server' => '127.0.0.1',\n",
       "  'redisgraph-port' => 6379,\n",
       "  'redisgraph-options' => undefined,\n",
       "  'schema-dir' => '/Users/ampower/Projects/personal/nhai/assets/schema'\n",
       "}"
      ]
     },
     "execution_count": 6,
     "metadata": {},
     "output_type": "execute_result"
    }
   ],
   "source": [
    "Config.load({\n",
    "    \"debug-break-on-entry\": true,\n",
    "    \"log-level\": \"debug\",\n",
    "    \"environment-sync-watchdog-timeout\": 90000\n",
    "})"
   ]
  },
  {
   "cell_type": "code",
   "execution_count": 7,
   "metadata": {
    "tags": [
     "noerror"
    ]
   },
   "outputs": [
    {
     "name": "stdout",
     "output_type": "stream",
     "text": [
      "2021-10-16T19:49:05.157Z nhai INFO:  [main] \u001b[32mConnecting to Database '127.0.0.1:6379/nhai' without options\u001b[39m\n",
      "2021-10-16T19:49:05.163Z nhai INFO:  [main] \u001b[32mStarting NetHack: run #1\u001b[39m\n",
      "2021-10-16T19:49:05.164Z nhai DEBUG: [main] \u001b[36mHeap Usage: 12.74 MB (26.5% of 48.13 MB) :: ArrayBuffers: 53.12 KB   External: 1.30 MB   [[ Total Memory (RSS): 57.64 MB ]]\u001b[39m\n"
     ]
    }
   ],
   "source": [
    "runNethack()"
   ]
  },
  {
   "cell_type": "code",
   "execution_count": 8,
   "metadata": {
    "tags": [
     "noerror"
    ]
   },
   "outputs": [
    {
     "name": "stdout",
     "output_type": "stream",
     "text": [
      "2021-10-16T19:49:12.632Z nhai WARN:  [nethack-internal] \u001b[33mFS.trackingDelegate error on read file: /dev/stdin\u001b[39m\n",
      "2021-10-16T19:49:12.640Z nhai WARN:  [nethack-internal] \u001b[33mFS.trackingDelegate error on read file: record\u001b[39m\n",
      "2021-10-16T19:49:12.661Z nhai WARN:  [nethack-internal] \u001b[33mFS.trackingDelegate error on read file: /sysconf\u001b[39m\n",
      "2021-10-16T19:49:12.673Z nhai WARN:  [nethack-internal] \u001b[33mFS.trackingDelegate error on read file: nhdat\u001b[39m\n",
      "2021-10-16T19:49:12.683Z nhai INFO:  [main] \u001b[32mBreakpoint encountered.\u001b[39m\n",
      "2021-10-16T19:49:12.683Z nhai DEBUG: [main] \u001b[36mBreakpoint triggered by event: vision::perception => data\u001b[39m\n",
      "2021-10-16T19:49:12.919Z nhai INFO:  [main] \u001b[32mStepping program execution.\u001b[39m\n"
     ]
    }
   ],
   "source": [
    "%step --wait"
   ]
  }
 ],
 "metadata": {
  "celltoolbar": "Tags",
  "kernelspec": {
   "display_name": "Javascript (Node.js)",
   "language": "javascript",
   "name": "javascript"
  },
  "language_info": {
   "file_extension": ".js",
   "mimetype": "application/javascript",
   "name": "javascript",
   "version": "14.16.0"
  },
  "toc": {
   "base_numbering": 1,
   "nav_menu": {},
   "number_sections": true,
   "sideBar": true,
   "skip_h1_title": false,
   "title_cell": "Table of Contents",
   "title_sidebar": "Contents",
   "toc_cell": false,
   "toc_position": {
    "height": "732px",
    "left": "693.594px",
    "top": "143px",
    "width": "358.391px"
   },
   "toc_section_display": true,
   "toc_window_display": true
  }
 },
 "nbformat": 4,
 "nbformat_minor": 4
}
