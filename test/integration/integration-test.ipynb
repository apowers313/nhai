{
 "cells": [
  {
   "cell_type": "markdown",
   "metadata": {},
   "source": [
    "# NHAI Experiment integration testing (2021-03-08)\n",
    "\n",
    "Testing module loading and breakpoints"
   ]
  },
  {
   "cell_type": "code",
   "execution_count": 1,
   "metadata": {
    "tags": [
     "exact"
    ]
   },
   "outputs": [
    {
     "name": "stdout",
     "output_type": "stream",
     "text": [
      "testing magic\n"
     ]
    }
   ],
   "source": [
    "%echo testing magic"
   ]
  },
  {
   "cell_type": "code",
   "execution_count": 5,
   "metadata": {
    "scrolled": true,
    "tags": [
     "noerror"
    ]
   },
   "outputs": [
    {
     "name": "stdout",
     "output_type": "stream",
     "text": [
      "RedisGraph [class Graph]\n",
      "Component: action-selection\n",
      "[ added magic: '%break' which will call function 'shellBreak' ]\n",
      "[ added magic: '%bk' which will call function 'shellBreak' ]\n",
      "[ added magic: '%continue' which will call function 'shellContinue' ]\n",
      "[ added magic: '%cont' which will call function 'shellContinue' ]\n",
      "[ added magic: '%step' which will call function 'shellStep' ]\n",
      "[ added magic: '%version' which will call function 'shellVersion' ]\n",
      "[ added magic: '%watch' which will call function 'shellWatch' ]\n",
      "Component: vision\n",
      "Component: delta\n",
      "Component: str\n",
      "Component: dex\n",
      "Component: con\n",
      "Component: int\n",
      "Component: wis\n",
      "Component: char\n",
      "Component: cap\n",
      "Component: energy\n",
      "Component: energy-max\n",
      "Component: xp\n",
      "Component: ac\n",
      "Component: hunger\n",
      "Component: hp\n",
      "Component: hp-max\n",
      "Component: cond\n"
     ]
    },
    {
     "data": {
      "text/plain": [
       "{\n",
       "  runNethack: [AsyncFunction: runNethack],\n",
       "  crl: {\n",
       "    init: [AsyncFunction: init],\n",
       "    Action: [class Action],\n",
       "    ActionEvent: [class ActionEvent extends EventBase],\n",
       "    ActionSelection: [class ActionSelection extends Component],\n",
       "    Breakpoint: [class Breakpoint extends EventFilter],\n",
       "    Component: [class Component],\n",
       "    Config: [class Config],\n",
       "    Context: [class Context extends Component],\n",
       "    Edge: [class Edge extends TransientObject],\n",
       "    EventBase: [class EventBase],\n",
       "    EventBusBase: [class EventBusBase extends EventEmitter],\n",
       "    EventFilter: [class EventFilter],\n",
       "    EventListener: [class EventListener],\n",
       "    FeatureExtractor: [class FeatureExtractor extends Component],\n",
       "    GraphDb: [class GraphDb],\n",
       "    GraphEdge: undefined,\n",
       "    GraphNode: undefined,\n",
       "    HtmlTemplate: [class HtmlTemplate],\n",
       "    Intrinsic: [class Intrinsic extends Component],\n",
       "    Jupyter: [class Jupyter],\n",
       "    Log: [class Log],\n",
       "    Node: [class Node extends TransientObject],\n",
       "    Perception: [class Perception extends Component],\n",
       "    PerceptionEvent: [class PerceptionEvent extends EventBase],\n",
       "    PerceptionModule: undefined,\n",
       "    Pipeline: [class Pipeline],\n",
       "    PipelineStage: [class PipelineStage],\n",
       "    Significance: [class Significance extends Component],\n",
       "    Schema: [class Schema],\n",
       "    SignificanceEvent: [class SignificanceEvent extends EventBase],\n",
       "    StatusImage: [class StatusImage],\n",
       "    Synchronize: [class Synchronize],\n",
       "    Utility: [class Utility],\n",
       "    Trace: [class Trace],\n",
       "    TransientObject: [class TransientObject] { cache: Map(0) {} }\n",
       "  }\n",
       "}"
      ]
     },
     "execution_count": 5,
     "metadata": {},
     "output_type": "execute_result"
    }
   ],
   "source": [
    "let {runNethack, crl: {Config}} = require(\"../../main\")"
   ]
  },
  {
   "cell_type": "code",
   "execution_count": 3,
   "metadata": {
    "tags": [
     "noerror"
    ]
   },
   "outputs": [
    {
     "data": {
      "text/plain": [
       "Map(23) {\n",
       "  'app-name' => 'nhai',\n",
       "  'app-version' => '0.0.0',\n",
       "  'debug-break-on-entry' => true,\n",
       "  'debug-sync-environment' => true,\n",
       "  'environment-synchronous' => true,\n",
       "  'environment-sync-watchdog-timeout' => 90000,\n",
       "  'environment-async-time' => 100,\n",
       "  'graphdb-name' => 'nhai',\n",
       "  'html-template-dir' => '/Users/ampower/Projects/personal/nhai/assets/hbs',\n",
       "  'locale' => 'default',\n",
       "  'log-level' => 'debug',\n",
       "  'log-patch-console' => true,\n",
       "  'log-start-msg' => false,\n",
       "  'log-force-color' => true,\n",
       "  'log-file-enabled' => false,\n",
       "  'log-file-prefix' => 'nhai-',\n",
       "  'log-file-suffix' => '.log',\n",
       "  'log-file-path' => '.',\n",
       "  'random-seed' => 'goodluck!',\n",
       "  'redisgraph-server' => '127.0.0.1',\n",
       "  'redisgraph-port' => 6379,\n",
       "  'redisgraph-options' => undefined,\n",
       "  'schema-dir' => '/Users/ampower/Projects/personal/nhai/assets/schema'\n",
       "}"
      ]
     },
     "execution_count": 3,
     "metadata": {},
     "output_type": "execute_result"
    }
   ],
   "source": [
    "Config.load({\n",
    "    \"debug-break-on-entry\": true,\n",
    "    \"log-level\": \"debug\",\n",
    "    \"environment-sync-watchdog-timeout\": 90000\n",
    "})"
   ]
  }
 ],
 "metadata": {
  "celltoolbar": "Tags",
  "kernelspec": {
   "display_name": "Javascript (Node.js)",
   "language": "javascript",
   "name": "javascript"
  },
  "language_info": {
   "file_extension": ".js",
   "mimetype": "application/javascript",
   "name": "javascript",
   "version": "14.16.0"
  },
  "toc": {
   "base_numbering": 1,
   "nav_menu": {},
   "number_sections": true,
   "sideBar": true,
   "skip_h1_title": false,
   "title_cell": "Table of Contents",
   "title_sidebar": "Contents",
   "toc_cell": false,
   "toc_position": {
    "height": "calc(100% - 180px)",
    "left": "10px",
    "top": "150px",
    "width": "358.391px"
   },
   "toc_section_display": true,
   "toc_window_display": true
  }
 },
 "nbformat": 4,
 "nbformat_minor": 4
}
